{
  "nbformat": 4,
  "nbformat_minor": 0,
  "metadata": {
    "colab": {
      "name": "word2vec model.ipynb",
      "provenance": [],
      "collapsed_sections": [],
      "include_colab_link": true
    },
    "kernelspec": {
      "name": "python3",
      "display_name": "Python 3"
    },
    "accelerator": "GPU"
  },
  "cells": [
    {
      "cell_type": "markdown",
      "metadata": {
        "id": "view-in-github",
        "colab_type": "text"
      },
      "source": [
        "<a href=\"https://colab.research.google.com/github/zhpinkman/coursera-nlp/blob/master/word2vec_model.ipynb\" target=\"_parent\"><img src=\"https://colab.research.google.com/assets/colab-badge.svg\" alt=\"Open In Colab\"/></a>"
      ]
    },
    {
      "cell_type": "code",
      "metadata": {
        "id": "7VFe_m-yd3eK",
        "colab_type": "code",
        "colab": {
          "base_uri": "https://localhost:8080/",
          "height": 104
        },
        "outputId": "13dac1d0-d1ac-498e-a00e-acc4c2fd0e97"
      },
      "source": [
        "!git clone https://github.com/facebookresearch/fastText.git"
      ],
      "execution_count": null,
      "outputs": [
        {
          "output_type": "stream",
          "text": [
            "Cloning into 'fastText'...\n",
            "remote: Enumerating objects: 3854, done.\u001b[K\n",
            "remote: Total 3854 (delta 0), reused 0 (delta 0), pack-reused 3854\u001b[K\n",
            "Receiving objects: 100% (3854/3854), 8.22 MiB | 5.73 MiB/s, done.\n",
            "Resolving deltas: 100% (2419/2419), done.\n"
          ],
          "name": "stdout"
        }
      ]
    },
    {
      "cell_type": "code",
      "metadata": {
        "id": "CYL2dPYdeAmd",
        "colab_type": "code",
        "colab": {
          "base_uri": "https://localhost:8080/",
          "height": 34
        },
        "outputId": "ab5bbc56-ac65-4087-ecce-e636eff04813"
      },
      "source": [
        "!ls"
      ],
      "execution_count": null,
      "outputs": [
        {
          "output_type": "stream",
          "text": [
            "fastText  sample_data\n"
          ],
          "name": "stdout"
        }
      ]
    },
    {
      "cell_type": "code",
      "metadata": {
        "id": "sjgpUuaTeCpA",
        "colab_type": "code",
        "colab": {
          "base_uri": "https://localhost:8080/",
          "height": 228
        },
        "outputId": "03632219-dab8-48c4-ea79-b0edef0f7b4f"
      },
      "source": [
        "!sudo pip install fastText/."
      ],
      "execution_count": null,
      "outputs": [
        {
          "output_type": "stream",
          "text": [
            "Processing ./fastText\n",
            "Requirement already satisfied: pybind11>=2.2 in /usr/local/lib/python3.6/dist-packages (from fasttext==0.9.2) (2.5.0)\n",
            "Requirement already satisfied: setuptools>=0.7.0 in /usr/local/lib/python3.6/dist-packages (from fasttext==0.9.2) (49.2.0)\n",
            "Requirement already satisfied: numpy in /usr/local/lib/python3.6/dist-packages (from fasttext==0.9.2) (1.18.5)\n",
            "Building wheels for collected packages: fasttext\n",
            "  Building wheel for fasttext (setup.py) ... \u001b[?25l\u001b[?25hdone\n",
            "  Created wheel for fasttext: filename=fasttext-0.9.2-cp36-cp36m-linux_x86_64.whl size=3010258 sha256=8de3fef84d8eec5dbf6c72a123f5b7874f6271fe57063ac36b184ee419560981\n",
            "  Stored in directory: /tmp/pip-ephem-wheel-cache-r32b4rof/wheels/a1/9f/52/696ce6c5c46325e840c76614ee5051458c0df10306987e7443\n",
            "Successfully built fasttext\n",
            "Installing collected packages: fasttext\n",
            "Successfully installed fasttext-0.9.2\n"
          ],
          "name": "stdout"
        }
      ]
    },
    {
      "cell_type": "code",
      "metadata": {
        "id": "e9K08LLce04T",
        "colab_type": "code",
        "colab": {
          "base_uri": "https://localhost:8080/",
          "height": 34
        },
        "outputId": "f07a08b9-d0e0-4b8a-c6d0-01586cd7e8fc"
      },
      "source": [
        "!ls"
      ],
      "execution_count": null,
      "outputs": [
        {
          "output_type": "stream",
          "text": [
            "fastText  sample_data\n"
          ],
          "name": "stdout"
        }
      ]
    },
    {
      "cell_type": "code",
      "metadata": {
        "id": "4QDlLOb9e39X",
        "colab_type": "code",
        "colab": {}
      },
      "source": [
        "!cd fastText"
      ],
      "execution_count": null,
      "outputs": []
    },
    {
      "cell_type": "code",
      "metadata": {
        "id": "HHvH3BVle6ob",
        "colab_type": "code",
        "colab": {
          "base_uri": "https://localhost:8080/",
          "height": 34
        },
        "outputId": "bd7e3d01-dd13-4c25-8896-31a37f1bb285"
      },
      "source": [
        "!ls"
      ],
      "execution_count": null,
      "outputs": [
        {
          "output_type": "stream",
          "text": [
            "fastText  sample_data\n"
          ],
          "name": "stdout"
        }
      ]
    },
    {
      "cell_type": "code",
      "metadata": {
        "id": "5v-PmTOse77g",
        "colab_type": "code",
        "colab": {}
      },
      "source": [
        "import fasttext.util"
      ],
      "execution_count": null,
      "outputs": []
    },
    {
      "cell_type": "code",
      "metadata": {
        "id": "RvoE60u6fC3b",
        "colab_type": "code",
        "colab": {
          "base_uri": "https://localhost:8080/",
          "height": 34
        },
        "outputId": "6ae838f5-1680-43cd-ac2a-fdd40d69d01d"
      },
      "source": [
        "fasttext.util.download_model('fa', if_exists='ignore')"
      ],
      "execution_count": null,
      "outputs": [
        {
          "output_type": "stream",
          "text": [
            "Downloading https://dl.fbaipublicfiles.com/fasttext/vectors-crawl/cc.fa.300.bin.gz\n"
          ],
          "name": "stdout"
        }
      ]
    },
    {
      "cell_type": "code",
      "metadata": {
        "id": "n02NLLqBfRNb",
        "colab_type": "code",
        "colab": {}
      },
      "source": [
        "ft = fasttext.load_model('cc.fa.300.bin')"
      ],
      "execution_count": null,
      "outputs": []
    },
    {
      "cell_type": "code",
      "metadata": {
        "id": "Y-YW6tiAiks0",
        "colab_type": "code",
        "colab": {}
      },
      "source": [
        "ft.get_nearest_neighbors('سلام')"
      ],
      "execution_count": null,
      "outputs": []
    },
    {
      "cell_type": "code",
      "metadata": {
        "id": "1E0lKqxojOrR",
        "colab_type": "code",
        "colab": {
          "base_uri": "https://localhost:8080/",
          "height": 187
        },
        "outputId": "933273dd-29ae-4f3f-d167-d25f544bb3a2"
      },
      "source": [
        "ft.get_nearest_neighbors('طلا')"
      ],
      "execution_count": null,
      "outputs": [
        {
          "output_type": "execute_result",
          "data": {
            "text/plain": [
              "[(0.694230854511261, 'طلای'),\n",
              " (0.6849290728569031, 'طلاو'),\n",
              " (0.6164087057113647, 'طلابه'),\n",
              " (0.6109494566917419, 'نقره'),\n",
              " (0.5962421298027039, 'جواهر'),\n",
              " (0.5737359523773193, 'سکه'),\n",
              " (0.5678431987762451, 'طلاوجواهر'),\n",
              " (0.5546823143959045, 'وجواهر'),\n",
              " (0.5541793704032898, 'طلادر'),\n",
              " (0.5481424331665039, 'طلاسکه')]"
            ]
          },
          "metadata": {
            "tags": []
          },
          "execution_count": 20
        }
      ]
    },
    {
      "cell_type": "code",
      "metadata": {
        "id": "ejzW1gCijawV",
        "colab_type": "code",
        "colab": {
          "base_uri": "https://localhost:8080/",
          "height": 187
        },
        "outputId": "60c03ecf-1d08-4b69-c3e3-78a93b737e5d"
      },
      "source": [
        "ft.get_nearest_neighbors('ماشین')"
      ],
      "execution_count": null,
      "outputs": [
        {
          "output_type": "execute_result",
          "data": {
            "text/plain": [
              "[(0.6747990250587463, 'ازماشین'),\n",
              " (0.6507582068443298, 'ماشینهای'),\n",
              " (0.6458106637001038, 'وماشین'),\n",
              " (0.6424431800842285, 'ماشین\\u200cهای'),\n",
              " (0.6340875625610352, 'ماشینماشین'),\n",
              " (0.629118025302887, 'تولیدماشین'),\n",
              " (0.6223403215408325, 'اتومبیل'),\n",
              " (0.6012367606163025, 'خریدماشین'),\n",
              " (0.5977076292037964, 'است.ماشین'),\n",
              " (0.5947739481925964, 'ماشین\\xad')]"
            ]
          },
          "metadata": {
            "tags": []
          },
          "execution_count": 15
        }
      ]
    },
    {
      "cell_type": "code",
      "metadata": {
        "id": "EWJlgC8Zjg6e",
        "colab_type": "code",
        "colab": {
          "base_uri": "https://localhost:8080/",
          "height": 34
        },
        "outputId": "8cd0edda-8d9e-4f4f-f754-ca1574da5e25"
      },
      "source": [
        "import numpy as np\n",
        "\n",
        "np.dot(ft.get_word_vector('طلا'), ft.get_word_vector('نقره'))"
      ],
      "execution_count": null,
      "outputs": [
        {
          "output_type": "execute_result",
          "data": {
            "text/plain": [
              "1.2921867"
            ]
          },
          "metadata": {
            "tags": []
          },
          "execution_count": 16
        }
      ]
    },
    {
      "cell_type": "code",
      "metadata": {
        "id": "hE3jolg2kq3M",
        "colab_type": "code",
        "colab": {
          "base_uri": "https://localhost:8080/",
          "height": 34
        },
        "outputId": "7a867e77-a7cd-49e7-b1d9-d3b1bbd60ed8"
      },
      "source": [
        "np.dot(ft.get_word_vector('طلا'), ft.get_word_vector('چیپس'))"
      ],
      "execution_count": null,
      "outputs": [
        {
          "output_type": "execute_result",
          "data": {
            "text/plain": [
              "0.48538145"
            ]
          },
          "metadata": {
            "tags": []
          },
          "execution_count": 29
        }
      ]
    },
    {
      "cell_type": "code",
      "metadata": {
        "id": "8iOsGBfZkuR6",
        "colab_type": "code",
        "colab": {
          "base_uri": "https://localhost:8080/",
          "height": 34
        },
        "outputId": "d32732f7-f8d0-4d3e-cb7e-a0e7fcd566b9"
      },
      "source": [
        "np.dot(ft.get_word_vector('طلا'), ft.get_word_vector('طلایی'))"
      ],
      "execution_count": null,
      "outputs": [
        {
          "output_type": "execute_result",
          "data": {
            "text/plain": [
              "0.5125714"
            ]
          },
          "metadata": {
            "tags": []
          },
          "execution_count": 19
        }
      ]
    },
    {
      "cell_type": "code",
      "metadata": {
        "id": "Z9smB_CmkxcG",
        "colab_type": "code",
        "colab": {
          "base_uri": "https://localhost:8080/",
          "height": 34
        },
        "outputId": "214d1f31-f3a7-482d-b721-89b78c6be00a"
      },
      "source": [
        "np.dot(ft.get_word_vector('رنگ'), ft.get_word_vector('طلایی'))"
      ],
      "execution_count": null,
      "outputs": [
        {
          "output_type": "execute_result",
          "data": {
            "text/plain": [
              "0.47277766"
            ]
          },
          "metadata": {
            "tags": []
          },
          "execution_count": 21
        }
      ]
    },
    {
      "cell_type": "code",
      "metadata": {
        "id": "ApIdWbtUlK29",
        "colab_type": "code",
        "colab": {
          "base_uri": "https://localhost:8080/",
          "height": 34
        },
        "outputId": "bf1d373f-1f9b-436d-aed8-902576907677"
      },
      "source": [
        "np.dot(ft.get_word_vector('رنگ'), ft.get_word_vector('طلا'))"
      ],
      "execution_count": null,
      "outputs": [
        {
          "output_type": "execute_result",
          "data": {
            "text/plain": [
              "0.69546974"
            ]
          },
          "metadata": {
            "tags": []
          },
          "execution_count": 22
        }
      ]
    },
    {
      "cell_type": "code",
      "metadata": {
        "id": "K0EiBP3rlQLf",
        "colab_type": "code",
        "colab": {}
      },
      "source": [
        "import numpy as np\n",
        "import pandas as pd"
      ],
      "execution_count": null,
      "outputs": []
    },
    {
      "cell_type": "code",
      "metadata": {
        "id": "l65KatfBmZSt",
        "colab_type": "code",
        "colab": {
          "base_uri": "https://localhost:8080/",
          "height": 124
        },
        "outputId": "16b38202-f76c-4269-b228-6fef2112d3e0"
      },
      "source": [
        "from google.colab import drive\n",
        "drive.mount('/content/drive')"
      ],
      "execution_count": null,
      "outputs": [
        {
          "output_type": "stream",
          "text": [
            "Go to this URL in a browser: https://accounts.google.com/o/oauth2/auth?client_id=947318989803-6bn6qk8qdgf4n4g3pfee6491hc0brc4i.apps.googleusercontent.com&redirect_uri=urn%3aietf%3awg%3aoauth%3a2.0%3aoob&scope=email%20https%3a%2f%2fwww.googleapis.com%2fauth%2fdocs.test%20https%3a%2f%2fwww.googleapis.com%2fauth%2fdrive%20https%3a%2f%2fwww.googleapis.com%2fauth%2fdrive.photos.readonly%20https%3a%2f%2fwww.googleapis.com%2fauth%2fpeopleapi.readonly&response_type=code\n",
            "\n",
            "Enter your authorization code:\n",
            "··········\n",
            "Mounted at /content/drive\n"
          ],
          "name": "stdout"
        }
      ]
    },
    {
      "cell_type": "code",
      "metadata": {
        "id": "LmF8Vul-mUSY",
        "colab_type": "code",
        "colab": {
          "base_uri": "https://localhost:8080/",
          "height": 441
        },
        "outputId": "108186d0-e5e3-4241-8881-c5d899d8af2a"
      },
      "source": [
        "df = pd.read_csv('data.csv')\n",
        "print(df['Suggestion'].unique())\n",
        "df"
      ],
      "execution_count": null,
      "outputs": [
        {
          "output_type": "stream",
          "text": [
            "[1 3 2]\n"
          ],
          "name": "stdout"
        },
        {
          "output_type": "execute_result",
          "data": {
            "text/html": [
              "<div>\n",
              "<style scoped>\n",
              "    .dataframe tbody tr th:only-of-type {\n",
              "        vertical-align: middle;\n",
              "    }\n",
              "\n",
              "    .dataframe tbody tr th {\n",
              "        vertical-align: top;\n",
              "    }\n",
              "\n",
              "    .dataframe thead th {\n",
              "        text-align: right;\n",
              "    }\n",
              "</style>\n",
              "<table border=\"1\" class=\"dataframe\">\n",
              "  <thead>\n",
              "    <tr style=\"text-align: right;\">\n",
              "      <th></th>\n",
              "      <th>Text</th>\n",
              "      <th>Score</th>\n",
              "      <th>Suggestion</th>\n",
              "    </tr>\n",
              "  </thead>\n",
              "  <tbody>\n",
              "    <tr>\n",
              "      <th>0</th>\n",
              "      <td>این اولین تجربه من برای خرید ایفون هست   امروز...</td>\n",
              "      <td>100</td>\n",
              "      <td>1</td>\n",
              "    </tr>\n",
              "    <tr>\n",
              "      <th>1</th>\n",
              "      <td>خرید این محصول رو توصیه میکنم</td>\n",
              "      <td>84</td>\n",
              "      <td>1</td>\n",
              "    </tr>\n",
              "    <tr>\n",
              "      <th>2</th>\n",
              "      <td>1 ساله این گوشی رو دارم   هیچ نقطه ضعفی ازش ند...</td>\n",
              "      <td>60</td>\n",
              "      <td>1</td>\n",
              "    </tr>\n",
              "    <tr>\n",
              "      <th>3</th>\n",
              "      <td>سلام خدمت دوستان این گوشی از همه نظر عالی  کیف...</td>\n",
              "      <td>96</td>\n",
              "      <td>1</td>\n",
              "    </tr>\n",
              "    <tr>\n",
              "      <th>4</th>\n",
              "      <td>سلام دوستانی که نگران شکستن صفحه نمایش هستند ا...</td>\n",
              "      <td>92</td>\n",
              "      <td>1</td>\n",
              "    </tr>\n",
              "    <tr>\n",
              "      <th>...</th>\n",
              "      <td>...</td>\n",
              "      <td>...</td>\n",
              "      <td>...</td>\n",
              "    </tr>\n",
              "    <tr>\n",
              "      <th>3256</th>\n",
              "      <td>کیفت ساختش خوبه تنوعش هم خوبه   فقط مشکلش اینه...</td>\n",
              "      <td>84</td>\n",
              "      <td>2</td>\n",
              "    </tr>\n",
              "    <tr>\n",
              "      <th>3257</th>\n",
              "      <td>خیلی خوب و به درد بخوره و اندازشم عالیه</td>\n",
              "      <td>100</td>\n",
              "      <td>1</td>\n",
              "    </tr>\n",
              "    <tr>\n",
              "      <th>3258</th>\n",
              "      <td>عالیه خیلی دوسش دارم قیمتش یه کم زیاده ولی به ...</td>\n",
              "      <td>100</td>\n",
              "      <td>1</td>\n",
              "    </tr>\n",
              "    <tr>\n",
              "      <th>3259</th>\n",
              "      <td>من این مینی فرز رو از دیحیکالا سفارش دادم و به...</td>\n",
              "      <td>84</td>\n",
              "      <td>1</td>\n",
              "    </tr>\n",
              "    <tr>\n",
              "      <th>3260</th>\n",
              "      <td>بعد از چند دقیقه که باهاش کار کنی سریع داغ میش...</td>\n",
              "      <td>48</td>\n",
              "      <td>3</td>\n",
              "    </tr>\n",
              "  </tbody>\n",
              "</table>\n",
              "<p>3261 rows × 3 columns</p>\n",
              "</div>"
            ],
            "text/plain": [
              "                                                   Text  Score  Suggestion\n",
              "0     این اولین تجربه من برای خرید ایفون هست   امروز...    100           1\n",
              "1                        خرید این محصول رو توصیه میکنم      84           1\n",
              "2     1 ساله این گوشی رو دارم   هیچ نقطه ضعفی ازش ند...     60           1\n",
              "3     سلام خدمت دوستان این گوشی از همه نظر عالی  کیف...     96           1\n",
              "4     سلام دوستانی که نگران شکستن صفحه نمایش هستند ا...     92           1\n",
              "...                                                 ...    ...         ...\n",
              "3256  کیفت ساختش خوبه تنوعش هم خوبه   فقط مشکلش اینه...     84           2\n",
              "3257           خیلی خوب و به درد بخوره و اندازشم عالیه     100           1\n",
              "3258  عالیه خیلی دوسش دارم قیمتش یه کم زیاده ولی به ...    100           1\n",
              "3259  من این مینی فرز رو از دیحیکالا سفارش دادم و به...     84           1\n",
              "3260  بعد از چند دقیقه که باهاش کار کنی سریع داغ میش...     48           3\n",
              "\n",
              "[3261 rows x 3 columns]"
            ]
          },
          "metadata": {
            "tags": []
          },
          "execution_count": 10
        }
      ]
    },
    {
      "cell_type": "code",
      "metadata": {
        "id": "c3XdXjzlmWvF",
        "colab_type": "code",
        "colab": {
          "base_uri": "https://localhost:8080/",
          "height": 34
        },
        "outputId": "e88d2f20-88ca-43c2-b3cd-77371833fc36"
      },
      "source": [
        "texts = df['Text'].values\n",
        "words = list()\n",
        "for sen in texts:\n",
        "    words.append(sen.split(' '))\n",
        "lens = 0\n",
        "for sen in words:\n",
        "    lens += len(sen)\n",
        "print(lens/len(words))"
      ],
      "execution_count": null,
      "outputs": [
        {
          "output_type": "stream",
          "text": [
            "56.590616375344986\n"
          ],
          "name": "stdout"
        }
      ]
    },
    {
      "cell_type": "code",
      "metadata": {
        "id": "fLiY5PjBnemm",
        "colab_type": "code",
        "colab": {
          "base_uri": "https://localhost:8080/",
          "height": 263
        },
        "outputId": "f14cad25-f51c-4c89-88ad-9f47049216f0"
      },
      "source": [
        "def calculate_lens(x):\n",
        "    text_list = x['Text'].split(' ')\n",
        "    return len(text_list)\n",
        "text_lens = df.apply(calculate_lens, axis=1)\n",
        "print(df['Text'][6])\n",
        "text_lens"
      ],
      "execution_count": null,
      "outputs": [
        {
          "output_type": "stream",
          "text": [
            "اول از همه خوشحالم که بالاخره نسخه های 128 گیگابایتی برای فروش قرار گرفت چون همیشه من با حافظه گوشی های اندرویدی مشکل داشتم  گوشی قبلی من s7 بود و بعد از 2 سال استفاده که بسیار هم راضی بودم به دلیل تغییرات مثبتی که در گوشی های سامسونگ ایجاد شد تصمیم گرفتم گوشی رو عوض کنم این گوشی واقعا زیباست و طراحی منحصر به فردی داره  زمانی که گوشی رو در دست میگیرید بسیار خودش دست هست و حس خیلی خوبی داره تنها دلیلی که نسخه پلاس رو انتخاب نکردم بزرگی بیش از حد و وزن گوشی بود ولی این نسخه از نظر اندازه فوق العادست کیفیت و بلندی صدای  اسپیکر  ها عالی هست  زمانی که با گوشی قبلی خودم تست کردم واقعا تفاوت زیادی حس میشد  همچنین با گوشی HTC U11 هم مقایسه کردم و باز هم بلندی صدای اس 9 بیشتر بود اما از نظر کیفیت شاید کمی u11 بهتر بود  نگرانی من جای سنسور اثر انگشت بود چون با اس8 که کار کرده بودم اصلا جای مناسبی نداشت ولی این مشکل با تغییر جای سنسور بنظرم کاملا حل شده و سرعت سنسور هم عالی هست و با وجود Intelligent scan که ترکیب سنسور عنبیه و تشخیص چهره هست خیلی نیازی به اثر انگشت احساس نمیشه چون حتی توی تاریکی مطلق هم به سرعت گوشی از این طریق باز میشه اما یک ایراد امنیتی که دیدم این بود که اگر چشمای من بسته باشه باز هم با روش intelligent scan گوشی سریعا باز میشه ولی توی آیفون X ظاهرا با چشمان بسته گوشی باز نمیشه و این از نظر امنیت خیلی بهتره دوربین سلفی خیلی بهتر از گوشی قبلی من هست ولی تفاوت زیادی توی دوربین اصلی با گوشی قبلی خودم ندیدم درکل دوربین اصلی کیفیت خوبی داره و به نسبت نسل های قبل توی زوم آخر نویز کمتری دیده میشه یکی از قابلیت هایی که روی دوربین اس 9 پلاس وجود داره به دلیل دو دوربین بودن گوشی میتونه عکس های بوکه بگیره ولی این گوشی هم چنین قابلیتی داره به اسم selective focus که اگر جسم در فاصله نیم متری باشه دقیقا همون افکت بوکه رو میتونه اعمال کنه و از نظر عملکرد هم خوب بود و در نهایت کیفیت صفحه هم که فوق العادست و بنظرم بهترین هست  و چند مورد هم از نقاط ضعف بگم  باتری   باتری متاسفانه زیاد رضایت بخش نیست و بنظرم به زور میتونه گوشی رو از صبح ساعت 7 8 تا 12 شب برسونه البته استفاده من زیاد هست و همیشه اینترنت هم روشن هست مخصوصا 4G ولی باز انتظار بیشتری میرفت که ظاهرا نسخه پلاس توی این مورد بهتره  مورد بعد AR ایموجی هست که واقعا از نظر عملکرد ضعیف هست و کلا فقط یکبار تستش کردم و کلا ناامید شدم  و دوستان هم تست کردن و اصلا نتیجه جالبی نداشت و همرو  تقریبا یکسان نشون میده نمیدونم چرا سامسونگ این همه روی قابلیت AR ایموجی تبلیغ کرد وقتی به بلوغ نرسیده   و ای کاش مثل نسخه پلاس 6 گیگابایت رم داشت و نمیدونم چرا سامسونگ خواست مثل اپل بین نسخه معمولی و پلاس فرق بزاره   همش تقصیر اپل هست اینارو باب میکنه  D   چون تقریبا 14 15 تا اپ که باز باشه دیگه قبلی هارو میبنده و شروع به ریلود کردن برنامه ها میکنه اگر بازی سنگین اجرا بشه که وضعیت بدتر میشه و با 5 6 تا اپ باز به مشکل بر میخوره و همرو موقع اجرای دوباره ریلود میکنه  در نهایت از خریدم راضی هستم ولی اگر رم 6 گیگابایتی و دوربین دوم نسخه پلاس رو داشت واقعا عالی میشد  چون اصلا نمیتونستم با نسخه پلاس از نظر اندازه کنار بیام و اگر روی قابلیت AR ایموجی بیشتر کار بشه و مثل آیفون X دوربین اسکن سه بعدی اضافه بشه قطعا قابلیت جالبی میشه \n"
          ],
          "name": "stdout"
        },
        {
          "output_type": "execute_result",
          "data": {
            "text/plain": [
              "0        31\n",
              "1         7\n",
              "2        14\n",
              "3        33\n",
              "4        56\n",
              "       ... \n",
              "3256     23\n",
              "3257     10\n",
              "3258     30\n",
              "3259    102\n",
              "3260     30\n",
              "Length: 3261, dtype: int64"
            ]
          },
          "metadata": {
            "tags": []
          },
          "execution_count": 12
        }
      ]
    },
    {
      "cell_type": "code",
      "metadata": {
        "id": "wDD8p0_YoDyM",
        "colab_type": "code",
        "colab": {
          "base_uri": "https://localhost:8080/",
          "height": 424
        },
        "outputId": "254dcd6e-7a56-4017-d095-82d75ead5f81"
      },
      "source": [
        "df = df[['Text', 'Score']]\n",
        "df = df[(df.Score > 70) | (df.Score < 60)]\n",
        "df\n",
        "def labelScore(x):\n",
        "    if x.Score > 70:\n",
        "        x.Score = 0\n",
        "    elif x.Score < 60:\n",
        "        x.Score = 1\n",
        "    return x\n",
        "\n",
        "df = df.apply(labelScore, axis=1)\n",
        "df"
      ],
      "execution_count": null,
      "outputs": [
        {
          "output_type": "execute_result",
          "data": {
            "text/html": [
              "<div>\n",
              "<style scoped>\n",
              "    .dataframe tbody tr th:only-of-type {\n",
              "        vertical-align: middle;\n",
              "    }\n",
              "\n",
              "    .dataframe tbody tr th {\n",
              "        vertical-align: top;\n",
              "    }\n",
              "\n",
              "    .dataframe thead th {\n",
              "        text-align: right;\n",
              "    }\n",
              "</style>\n",
              "<table border=\"1\" class=\"dataframe\">\n",
              "  <thead>\n",
              "    <tr style=\"text-align: right;\">\n",
              "      <th></th>\n",
              "      <th>Text</th>\n",
              "      <th>Score</th>\n",
              "    </tr>\n",
              "  </thead>\n",
              "  <tbody>\n",
              "    <tr>\n",
              "      <th>0</th>\n",
              "      <td>این اولین تجربه من برای خرید ایفون هست   امروز...</td>\n",
              "      <td>0</td>\n",
              "    </tr>\n",
              "    <tr>\n",
              "      <th>1</th>\n",
              "      <td>خرید این محصول رو توصیه میکنم</td>\n",
              "      <td>0</td>\n",
              "    </tr>\n",
              "    <tr>\n",
              "      <th>3</th>\n",
              "      <td>سلام خدمت دوستان این گوشی از همه نظر عالی  کیف...</td>\n",
              "      <td>0</td>\n",
              "    </tr>\n",
              "    <tr>\n",
              "      <th>4</th>\n",
              "      <td>سلام دوستانی که نگران شکستن صفحه نمایش هستند ا...</td>\n",
              "      <td>0</td>\n",
              "    </tr>\n",
              "    <tr>\n",
              "      <th>6</th>\n",
              "      <td>اول از همه خوشحالم که بالاخره نسخه های 128 گیگ...</td>\n",
              "      <td>0</td>\n",
              "    </tr>\n",
              "    <tr>\n",
              "      <th>...</th>\n",
              "      <td>...</td>\n",
              "      <td>...</td>\n",
              "    </tr>\n",
              "    <tr>\n",
              "      <th>3256</th>\n",
              "      <td>کیفت ساختش خوبه تنوعش هم خوبه   فقط مشکلش اینه...</td>\n",
              "      <td>0</td>\n",
              "    </tr>\n",
              "    <tr>\n",
              "      <th>3257</th>\n",
              "      <td>خیلی خوب و به درد بخوره و اندازشم عالیه</td>\n",
              "      <td>0</td>\n",
              "    </tr>\n",
              "    <tr>\n",
              "      <th>3258</th>\n",
              "      <td>عالیه خیلی دوسش دارم قیمتش یه کم زیاده ولی به ...</td>\n",
              "      <td>0</td>\n",
              "    </tr>\n",
              "    <tr>\n",
              "      <th>3259</th>\n",
              "      <td>من این مینی فرز رو از دیحیکالا سفارش دادم و به...</td>\n",
              "      <td>0</td>\n",
              "    </tr>\n",
              "    <tr>\n",
              "      <th>3260</th>\n",
              "      <td>بعد از چند دقیقه که باهاش کار کنی سریع داغ میش...</td>\n",
              "      <td>1</td>\n",
              "    </tr>\n",
              "  </tbody>\n",
              "</table>\n",
              "<p>2514 rows × 2 columns</p>\n",
              "</div>"
            ],
            "text/plain": [
              "                                                   Text  Score\n",
              "0     این اولین تجربه من برای خرید ایفون هست   امروز...      0\n",
              "1                        خرید این محصول رو توصیه میکنم       0\n",
              "3     سلام خدمت دوستان این گوشی از همه نظر عالی  کیف...      0\n",
              "4     سلام دوستانی که نگران شکستن صفحه نمایش هستند ا...      0\n",
              "6     اول از همه خوشحالم که بالاخره نسخه های 128 گیگ...      0\n",
              "...                                                 ...    ...\n",
              "3256  کیفت ساختش خوبه تنوعش هم خوبه   فقط مشکلش اینه...      0\n",
              "3257           خیلی خوب و به درد بخوره و اندازشم عالیه       0\n",
              "3258  عالیه خیلی دوسش دارم قیمتش یه کم زیاده ولی به ...      0\n",
              "3259  من این مینی فرز رو از دیحیکالا سفارش دادم و به...      0\n",
              "3260  بعد از چند دقیقه که باهاش کار کنی سریع داغ میش...      1\n",
              "\n",
              "[2514 rows x 2 columns]"
            ]
          },
          "metadata": {
            "tags": []
          },
          "execution_count": 13
        }
      ]
    },
    {
      "cell_type": "code",
      "metadata": {
        "id": "gCwkczPcybcD",
        "colab_type": "code",
        "colab": {
          "base_uri": "https://localhost:8080/",
          "height": 69
        },
        "outputId": "35a689f6-4aff-41c6-e933-69f0a75e67c3"
      },
      "source": [
        "from sklearn.utils import resample\n",
        "\n",
        "df_majority = df[df['Score']==0]\n",
        "df_minority = df[df['Score']==1]\n",
        "\n",
        "df_minority_upsampled = resample(df_minority, \n",
        "                                 replace=True,     # sample with replacement\n",
        "                                 n_samples=df_majority.shape[0],    # to match majority class\n",
        "                                 random_state=123) # reproducible results\n",
        " \n",
        "# Combine majority class with upsampled minority class\n",
        "df = pd.concat([df_majority, df_minority_upsampled])\n",
        "\n",
        "print(df['Score'].value_counts())"
      ],
      "execution_count": null,
      "outputs": [
        {
          "output_type": "stream",
          "text": [
            "1    2015\n",
            "0    2015\n",
            "Name: Score, dtype: int64\n"
          ],
          "name": "stdout"
        }
      ]
    },
    {
      "cell_type": "code",
      "metadata": {
        "id": "wwsjiRyqyeBW",
        "colab_type": "code",
        "colab": {
          "base_uri": "https://localhost:8080/",
          "height": 382
        },
        "outputId": "d85e67c8-ce12-42d6-8629-76d1f08d3f20"
      },
      "source": [
        "from tensorflow.keras.preprocessing.text import Tokenizer\n",
        "from tensorflow.keras.preprocessing.sequence import pad_sequences\n",
        "\n",
        "texts = df.Text.values\n",
        "tokenizer = Tokenizer(num_words=3000)\n",
        "tokenizer.fit_on_texts(texts)\n",
        "\n",
        "vocab_size = len(tokenizer.word_index) + 1\n",
        "print(vocab_size)\n",
        "\n",
        "encoded_docs = tokenizer.texts_to_sequences(texts)\n",
        "\n",
        "padded_sequence = pad_sequences(encoded_docs, maxlen=70, padding='post')\n",
        "\n",
        "dict(list(tokenizer.word_index.items())[:20])"
      ],
      "execution_count": null,
      "outputs": [
        {
          "output_type": "stream",
          "text": [
            "10729\n"
          ],
          "name": "stdout"
        },
        {
          "output_type": "execute_result",
          "data": {
            "text/plain": [
              "{'از': 3,\n",
              " 'استفاده': 18,\n",
              " 'این': 5,\n",
              " 'با': 7,\n",
              " 'برای': 13,\n",
              " 'به': 4,\n",
              " 'بود': 20,\n",
              " 'خیلی': 11,\n",
              " 'داره': 15,\n",
              " 'در': 8,\n",
              " 'رو': 6,\n",
              " 'من': 10,\n",
              " 'می': 19,\n",
              " 'های': 17,\n",
              " 'هست': 16,\n",
              " 'هم': 9,\n",
              " 'و': 1,\n",
              " 'ولی': 14,\n",
              " 'که': 2,\n",
              " 'کیفیت': 12}"
            ]
          },
          "metadata": {
            "tags": []
          },
          "execution_count": 15
        }
      ]
    },
    {
      "cell_type": "code",
      "metadata": {
        "id": "037Po_fzyhXx",
        "colab_type": "code",
        "colab": {
          "base_uri": "https://localhost:8080/",
          "height": 52
        },
        "outputId": "fe0f2f9d-36cc-4f27-f3bb-f81254fd92a4"
      },
      "source": [
        "print(padded_sequence.shape)\n",
        "print(df.Score.values)"
      ],
      "execution_count": null,
      "outputs": [
        {
          "output_type": "stream",
          "text": [
            "(4030, 70)\n",
            "[0 0 0 ... 1 1 1]\n"
          ],
          "name": "stdout"
        }
      ]
    },
    {
      "cell_type": "code",
      "metadata": {
        "id": "-bKTZ-EkzC7F",
        "colab_type": "code",
        "colab": {}
      },
      "source": [
        "from sklearn.model_selection import train_test_split\n",
        "\n",
        "X_train, X_test, y_train, y_test = train_test_split(padded_sequence, df.Score.values, test_size=0.3, shuffle=True)"
      ],
      "execution_count": null,
      "outputs": []
    },
    {
      "cell_type": "code",
      "metadata": {
        "id": "mnxN0b7a0nje",
        "colab_type": "code",
        "colab": {}
      },
      "source": [
        "embedding_matrix = np.zeros((vocab_size, 300))\n",
        "\n",
        "for word, i in tokenizer.word_index.items():\n",
        "  embedding_vector = ft.get_word_vector(word)\n",
        "  # words that cannot be found will be set to 0\n",
        "  if embedding_vector is not None:\n",
        "    embedding_matrix[i] = embedding_vector"
      ],
      "execution_count": null,
      "outputs": []
    },
    {
      "cell_type": "code",
      "metadata": {
        "id": "v8CLbEMP0lAQ",
        "colab_type": "code",
        "colab": {
          "base_uri": "https://localhost:8080/",
          "height": 347
        },
        "outputId": "f62a0fb0-df21-40f0-a4e7-55b650678cdb"
      },
      "source": [
        "from tensorflow.keras.models import Sequential\n",
        "from tensorflow.keras.layers import LSTM, Dense, Dropout\n",
        "from tensorflow.keras.layers import SpatialDropout1D\n",
        "from tensorflow.keras.layers import Embedding\n",
        "from tensorflow.keras.callbacks import EarlyStopping\n",
        "\n",
        "embedding_vector_length = 300\n",
        "\n",
        "model = Sequential()\n",
        "\n",
        "model.add(Embedding(vocab_size, embedding_vector_length, input_length=70, weights=[embedding_matrix], trainable=True))\n",
        "model.add(SpatialDropout1D(0.25))\n",
        "model.add(LSTM(50, dropout=0.5, recurrent_dropout=0.5))\n",
        "model.add(Dropout(0.2))\n",
        "model.add(Dense(1, activation='sigmoid'))\n",
        "model.compile(loss='binary_crossentropy',optimizer='adam', metrics=['accuracy'])\n",
        "print(model.summary())"
      ],
      "execution_count": null,
      "outputs": [
        {
          "output_type": "stream",
          "text": [
            "Model: \"sequential_13\"\n",
            "_________________________________________________________________\n",
            "Layer (type)                 Output Shape              Param #   \n",
            "=================================================================\n",
            "embedding_13 (Embedding)     (None, 70, 300)           3218700   \n",
            "_________________________________________________________________\n",
            "spatial_dropout1d_9 (Spatial (None, 70, 300)           0         \n",
            "_________________________________________________________________\n",
            "lstm_13 (LSTM)               (None, 50)                70200     \n",
            "_________________________________________________________________\n",
            "dropout_11 (Dropout)         (None, 50)                0         \n",
            "_________________________________________________________________\n",
            "dense_13 (Dense)             (None, 1)                 51        \n",
            "=================================================================\n",
            "Total params: 3,288,951\n",
            "Trainable params: 3,288,951\n",
            "Non-trainable params: 0\n",
            "_________________________________________________________________\n",
            "None\n"
          ],
          "name": "stdout"
        }
      ]
    },
    {
      "cell_type": "code",
      "metadata": {
        "id": "BFrD99Fu2dvl",
        "colab_type": "code",
        "colab": {
          "base_uri": "https://localhost:8080/",
          "height": 1000
        },
        "outputId": "e834700a-93bb-49e8-b0a1-a176f9367426"
      },
      "source": [
        "# early_stopping = EarlyStopping(monitor='val_accuracy', patience=10)\n",
        "history = model.fit(X_train, y_train, batch_size=32, epochs=40, validation_split=0.2)"
      ],
      "execution_count": null,
      "outputs": [
        {
          "output_type": "stream",
          "text": [
            "Epoch 1/40\n",
            "71/71 [==============================] - 13s 188ms/step - loss: 0.3922 - accuracy: 0.8285 - val_loss: 0.6517 - val_accuracy: 0.5646\n",
            "Epoch 2/40\n",
            "71/71 [==============================] - 13s 188ms/step - loss: 0.5771 - accuracy: 0.6020 - val_loss: 0.5798 - val_accuracy: 0.6389\n",
            "Epoch 3/40\n",
            "71/71 [==============================] - 13s 187ms/step - loss: 0.5345 - accuracy: 0.6348 - val_loss: 0.4444 - val_accuracy: 0.8584\n",
            "Epoch 4/40\n",
            "71/71 [==============================] - 13s 186ms/step - loss: 0.3447 - accuracy: 0.8830 - val_loss: 0.4065 - val_accuracy: 0.8478\n",
            "Epoch 5/40\n",
            "71/71 [==============================] - 13s 186ms/step - loss: 0.3201 - accuracy: 0.8949 - val_loss: 0.3979 - val_accuracy: 0.8602\n",
            "Epoch 6/40\n",
            "71/71 [==============================] - 13s 186ms/step - loss: 0.3078 - accuracy: 0.9020 - val_loss: 0.3770 - val_accuracy: 0.8708\n",
            "Epoch 7/40\n",
            "71/71 [==============================] - 13s 187ms/step - loss: 0.2963 - accuracy: 0.9056 - val_loss: 0.3772 - val_accuracy: 0.8690\n",
            "Epoch 8/40\n",
            "71/71 [==============================] - 13s 185ms/step - loss: 0.2769 - accuracy: 0.9096 - val_loss: 0.3862 - val_accuracy: 0.8673\n",
            "Epoch 9/40\n",
            "71/71 [==============================] - 13s 190ms/step - loss: 0.2771 - accuracy: 0.9096 - val_loss: 0.3836 - val_accuracy: 0.8673\n",
            "Epoch 10/40\n",
            "71/71 [==============================] - 13s 188ms/step - loss: 0.2671 - accuracy: 0.9131 - val_loss: 0.3759 - val_accuracy: 0.8690\n",
            "Epoch 11/40\n",
            "71/71 [==============================] - 13s 186ms/step - loss: 0.2428 - accuracy: 0.9131 - val_loss: 0.3819 - val_accuracy: 0.8726\n",
            "Epoch 12/40\n",
            "71/71 [==============================] - 13s 186ms/step - loss: 0.3022 - accuracy: 0.9043 - val_loss: 0.3770 - val_accuracy: 0.8690\n",
            "Epoch 13/40\n",
            "71/71 [==============================] - 13s 185ms/step - loss: 0.2453 - accuracy: 0.9215 - val_loss: 0.3464 - val_accuracy: 0.8832\n",
            "Epoch 14/40\n",
            "71/71 [==============================] - 13s 186ms/step - loss: 0.2310 - accuracy: 0.9065 - val_loss: 0.3778 - val_accuracy: 0.8779\n",
            "Epoch 15/40\n",
            "71/71 [==============================] - 13s 186ms/step - loss: 0.2067 - accuracy: 0.9158 - val_loss: 0.3901 - val_accuracy: 0.8602\n",
            "Epoch 16/40\n",
            "71/71 [==============================] - 13s 186ms/step - loss: 0.2232 - accuracy: 0.9074 - val_loss: 0.3931 - val_accuracy: 0.8743\n",
            "Epoch 17/40\n",
            "71/71 [==============================] - 13s 186ms/step - loss: 0.1854 - accuracy: 0.9340 - val_loss: 0.3894 - val_accuracy: 0.8726\n",
            "Epoch 18/40\n",
            "71/71 [==============================] - 13s 186ms/step - loss: 0.1792 - accuracy: 0.9415 - val_loss: 0.4366 - val_accuracy: 0.8637\n",
            "Epoch 19/40\n",
            "71/71 [==============================] - 13s 186ms/step - loss: 0.1717 - accuracy: 0.9464 - val_loss: 0.4302 - val_accuracy: 0.8796\n",
            "Epoch 20/40\n",
            "71/71 [==============================] - 13s 187ms/step - loss: 0.1627 - accuracy: 0.9459 - val_loss: 0.4448 - val_accuracy: 0.8619\n",
            "Epoch 21/40\n",
            "71/71 [==============================] - 13s 186ms/step - loss: 0.2069 - accuracy: 0.9189 - val_loss: 0.4064 - val_accuracy: 0.8283\n",
            "Epoch 22/40\n",
            "71/71 [==============================] - 13s 185ms/step - loss: 0.1818 - accuracy: 0.9309 - val_loss: 0.3527 - val_accuracy: 0.8867\n",
            "Epoch 23/40\n",
            "71/71 [==============================] - 13s 188ms/step - loss: 0.1539 - accuracy: 0.9481 - val_loss: 0.4788 - val_accuracy: 0.8832\n",
            "Epoch 24/40\n",
            "71/71 [==============================] - 13s 187ms/step - loss: 0.1468 - accuracy: 0.9539 - val_loss: 0.4202 - val_accuracy: 0.8814\n",
            "Epoch 25/40\n",
            "71/71 [==============================] - 13s 187ms/step - loss: 0.1419 - accuracy: 0.9588 - val_loss: 0.4304 - val_accuracy: 0.8655\n",
            "Epoch 26/40\n",
            "71/71 [==============================] - 13s 185ms/step - loss: 0.1344 - accuracy: 0.9605 - val_loss: 0.4541 - val_accuracy: 0.8850\n",
            "Epoch 27/40\n",
            "71/71 [==============================] - 13s 185ms/step - loss: 0.1542 - accuracy: 0.9477 - val_loss: 0.3626 - val_accuracy: 0.8814\n",
            "Epoch 28/40\n",
            "71/71 [==============================] - 13s 186ms/step - loss: 0.1304 - accuracy: 0.9605 - val_loss: 0.3766 - val_accuracy: 0.8885\n",
            "Epoch 29/40\n",
            "71/71 [==============================] - 13s 188ms/step - loss: 0.1582 - accuracy: 0.9561 - val_loss: 0.3986 - val_accuracy: 0.8832\n",
            "Epoch 30/40\n",
            "71/71 [==============================] - 13s 186ms/step - loss: 0.1421 - accuracy: 0.9588 - val_loss: 0.4232 - val_accuracy: 0.8796\n",
            "Epoch 31/40\n",
            "71/71 [==============================] - 13s 187ms/step - loss: 0.1371 - accuracy: 0.9659 - val_loss: 0.3617 - val_accuracy: 0.8938\n",
            "Epoch 32/40\n",
            "71/71 [==============================] - 13s 187ms/step - loss: 0.1252 - accuracy: 0.9681 - val_loss: 0.3954 - val_accuracy: 0.8814\n",
            "Epoch 33/40\n",
            "71/71 [==============================] - 13s 187ms/step - loss: 0.1237 - accuracy: 0.9707 - val_loss: 0.3696 - val_accuracy: 0.9009\n",
            "Epoch 34/40\n",
            "71/71 [==============================] - 13s 185ms/step - loss: 0.1333 - accuracy: 0.9637 - val_loss: 0.4431 - val_accuracy: 0.8903\n",
            "Epoch 35/40\n",
            "71/71 [==============================] - 13s 185ms/step - loss: 0.1193 - accuracy: 0.9699 - val_loss: 0.4816 - val_accuracy: 0.8779\n",
            "Epoch 36/40\n",
            "71/71 [==============================] - 13s 185ms/step - loss: 0.1306 - accuracy: 0.9681 - val_loss: 0.4189 - val_accuracy: 0.8867\n",
            "Epoch 37/40\n",
            "71/71 [==============================] - 13s 184ms/step - loss: 0.1332 - accuracy: 0.9681 - val_loss: 0.5970 - val_accuracy: 0.8513\n",
            "Epoch 38/40\n",
            "71/71 [==============================] - 13s 184ms/step - loss: 0.1734 - accuracy: 0.9566 - val_loss: 0.3486 - val_accuracy: 0.8973\n",
            "Epoch 39/40\n",
            "71/71 [==============================] - 13s 185ms/step - loss: 0.1347 - accuracy: 0.9668 - val_loss: 0.3725 - val_accuracy: 0.8920\n",
            "Epoch 40/40\n",
            "71/71 [==============================] - 13s 183ms/step - loss: 0.1590 - accuracy: 0.9605 - val_loss: 0.3574 - val_accuracy: 0.8903\n"
          ],
          "name": "stdout"
        }
      ]
    },
    {
      "cell_type": "code",
      "metadata": {
        "id": "y8_P9PyG2kf5",
        "colab_type": "code",
        "colab": {
          "base_uri": "https://localhost:8080/",
          "height": 337
        },
        "outputId": "d0ee121c-15f6-44f5-f68a-6b5c3f240dde"
      },
      "source": [
        "import matplotlib.pyplot as plt\n",
        "plt.style.use('ggplot')\n",
        "\n",
        "def plot_history(history):\n",
        "    acc = history.history['accuracy']\n",
        "    val_acc = history.history['val_accuracy']\n",
        "    loss = history.history['loss']\n",
        "    val_loss = history.history['val_loss']\n",
        "    x = range(1, len(acc) + 1)\n",
        "\n",
        "    plt.figure(figsize=(12, 5))\n",
        "    plt.subplot(1, 2, 1)\n",
        "    plt.plot(x, acc, 'b', label='Training acc')\n",
        "    plt.plot(x, val_acc, 'r', label='Validation acc')\n",
        "    plt.title('Training and validation accuracy')\n",
        "    plt.legend()\n",
        "    plt.subplot(1, 2, 2)\n",
        "    plt.plot(x, loss, 'b', label='Training loss')\n",
        "    plt.plot(x, val_loss, 'r', label='Validation loss')\n",
        "    plt.title('Training and validation loss')\n",
        "    plt.legend()\n",
        "\n",
        "plot_history(history)"
      ],
      "execution_count": null,
      "outputs": [
        {
          "output_type": "display_data",
          "data": {
            "image/png": "[encoded data removed]",
            "text/plain": [
              "<Figure size 864x360 with 2 Axes>"
            ]
          },
          "metadata": {
            "tags": []
          }
        }
      ]
    },
    {
      "cell_type": "code",
      "metadata": {
        "id": "9kIfoxr8ZUm2",
        "colab_type": "code",
        "colab": {
          "base_uri": "https://localhost:8080/",
          "height": 52
        },
        "outputId": "729be9b0-b524-471b-99b1-d57669fe513b"
      },
      "source": [
        "model.evaluate(X_test, y_test)"
      ],
      "execution_count": null,
      "outputs": [
        {
          "output_type": "stream",
          "text": [
            "38/38 [==============================] - 1s 20ms/step - loss: 0.3589 - accuracy: 0.8966\n"
          ],
          "name": "stdout"
        },
        {
          "output_type": "execute_result",
          "data": {
            "text/plain": [
              "[0.35893258452415466, 0.8966087698936462]"
            ]
          },
          "metadata": {
            "tags": []
          },
          "execution_count": 75
        }
      ]
    },
    {
      "cell_type": "code",
      "metadata": {
        "id": "JU1_-2Fu4xQA",
        "colab_type": "code",
        "colab": {
          "base_uri": "https://localhost:8080/",
          "height": 340
        },
        "outputId": "090ee496-7f47-4f10-a76e-61d4f0b94bf2"
      },
      "source": [
        "from tensorflow.keras.models import Sequential\n",
        "from tensorflow.keras.layers import LSTM, Dense, Dropout\n",
        "from tensorflow.keras.layers import SpatialDropout1D\n",
        "from tensorflow.keras.layers import Embedding\n",
        "\n",
        "embedding_vector_length = 300\n",
        "\n",
        "model = Sequential()\n",
        "\n",
        "model.add(Embedding(vocab_size, embedding_vector_length, input_length=70,weights=[embedding_matrix],trainable=True))\n",
        "model.add(SpatialDropout1D(0.25))\n",
        "model.add(LSTM(70, dropout=0.5, recurrent_dropout=0.5))\n",
        "model.add(Dropout(0.2))\n",
        "model.add(Dense(1, activation='sigmoid'))\n",
        "model.compile(loss='binary_crossentropy',optimizer='adam', metrics=['accuracy'])\n",
        "print(model.summary())"
      ],
      "execution_count": null,
      "outputs": [
        {
          "output_type": "stream",
          "text": [
            "Model: \"sequential_14\"\n",
            "_________________________________________________________________\n",
            "Layer (type)                 Output Shape              Param #   \n",
            "=================================================================\n",
            "embedding_21 (Embedding)     (None, 70, 300)           3218700   \n",
            "_________________________________________________________________\n",
            "spatial_dropout1d_8 (Spatial (None, 70, 300)           0         \n",
            "_________________________________________________________________\n",
            "lstm_4 (LSTM)                (None, 70)                103880    \n",
            "_________________________________________________________________\n",
            "dropout_3 (Dropout)          (None, 70)                0         \n",
            "_________________________________________________________________\n",
            "dense_3 (Dense)              (None, 1)                 71        \n",
            "=================================================================\n",
            "Total params: 3,322,651\n",
            "Trainable params: 3,322,651\n",
            "Non-trainable params: 0\n",
            "_________________________________________________________________\n",
            "None\n"
          ],
          "name": "stdout"
        }
      ]
    },
    {
      "cell_type": "code",
      "metadata": {
        "id": "hyQ5hdiJFhVH",
        "colab_type": "code",
        "colab": {
          "base_uri": "https://localhost:8080/",
          "height": 1000
        },
        "outputId": "a584f597-9353-4dcf-80c0-c2355decfe85"
      },
      "source": [
        "history = model.fit(X_train, y_train, batch_size=32, epochs=60, validation_split=0.2)"
      ],
      "execution_count": null,
      "outputs": [
        {
          "output_type": "stream",
          "text": [
            "Epoch 1/60\n",
            "71/71 [==============================] - 15s 215ms/step - loss: 0.6909 - accuracy: 0.5222 - val_loss: 0.6806 - val_accuracy: 0.5646\n",
            "Epoch 2/60\n",
            "71/71 [==============================] - 15s 210ms/step - loss: 0.6161 - accuracy: 0.6458 - val_loss: 0.4765 - val_accuracy: 0.7894\n",
            "Epoch 3/60\n",
            "71/71 [==============================] - 15s 211ms/step - loss: 0.4988 - accuracy: 0.7979 - val_loss: 0.4459 - val_accuracy: 0.8283\n",
            "Epoch 4/60\n",
            "71/71 [==============================] - 15s 211ms/step - loss: 0.6425 - accuracy: 0.6330 - val_loss: 0.6510 - val_accuracy: 0.5805\n",
            "Epoch 5/60\n",
            "71/71 [==============================] - 15s 209ms/step - loss: 0.6036 - accuracy: 0.6126 - val_loss: 0.5826 - val_accuracy: 0.6513\n",
            "Epoch 6/60\n",
            "71/71 [==============================] - 15s 211ms/step - loss: 0.5893 - accuracy: 0.6853 - val_loss: 0.5611 - val_accuracy: 0.7133\n",
            "Epoch 7/60\n",
            "71/71 [==============================] - 15s 208ms/step - loss: 0.5465 - accuracy: 0.7309 - val_loss: 0.5521 - val_accuracy: 0.7274\n",
            "Epoch 8/60\n",
            "71/71 [==============================] - 15s 209ms/step - loss: 0.5135 - accuracy: 0.7531 - val_loss: 0.5071 - val_accuracy: 0.7664\n",
            "Epoch 9/60\n",
            "71/71 [==============================] - 15s 209ms/step - loss: 0.4615 - accuracy: 0.8059 - val_loss: 0.5400 - val_accuracy: 0.7982\n",
            "Epoch 10/60\n",
            "71/71 [==============================] - 15s 211ms/step - loss: 0.5082 - accuracy: 0.7629 - val_loss: 0.4526 - val_accuracy: 0.8124\n",
            "Epoch 11/60\n",
            "71/71 [==============================] - 15s 211ms/step - loss: 0.4495 - accuracy: 0.8152 - val_loss: 0.4996 - val_accuracy: 0.7876\n",
            "Epoch 12/60\n",
            "71/71 [==============================] - 15s 209ms/step - loss: 0.4257 - accuracy: 0.8360 - val_loss: 0.4991 - val_accuracy: 0.8000\n",
            "Epoch 13/60\n",
            "71/71 [==============================] - 15s 208ms/step - loss: 0.4055 - accuracy: 0.8462 - val_loss: 0.4751 - val_accuracy: 0.8018\n",
            "Epoch 14/60\n",
            "71/71 [==============================] - 15s 212ms/step - loss: 0.3968 - accuracy: 0.8515 - val_loss: 0.4771 - val_accuracy: 0.8106\n",
            "Epoch 15/60\n",
            "71/71 [==============================] - 15s 211ms/step - loss: 0.3911 - accuracy: 0.8466 - val_loss: 0.4610 - val_accuracy: 0.8177\n",
            "Epoch 16/60\n",
            "71/71 [==============================] - 15s 210ms/step - loss: 0.5033 - accuracy: 0.7207 - val_loss: 0.5915 - val_accuracy: 0.6124\n",
            "Epoch 17/60\n",
            "71/71 [==============================] - 15s 210ms/step - loss: 0.5273 - accuracy: 0.6804 - val_loss: 0.4270 - val_accuracy: 0.8407\n",
            "Epoch 18/60\n",
            "71/71 [==============================] - 15s 210ms/step - loss: 0.3456 - accuracy: 0.8781 - val_loss: 0.3628 - val_accuracy: 0.8637\n",
            "Epoch 19/60\n",
            "71/71 [==============================] - 15s 209ms/step - loss: 0.3666 - accuracy: 0.8488 - val_loss: 0.4950 - val_accuracy: 0.7504\n",
            "Epoch 20/60\n",
            "71/71 [==============================] - 15s 209ms/step - loss: 0.3583 - accuracy: 0.8488 - val_loss: 0.4616 - val_accuracy: 0.8053\n",
            "Epoch 21/60\n",
            "71/71 [==============================] - 15s 207ms/step - loss: 0.2471 - accuracy: 0.9131 - val_loss: 0.3241 - val_accuracy: 0.8956\n",
            "Epoch 22/60\n",
            "71/71 [==============================] - 15s 210ms/step - loss: 0.2061 - accuracy: 0.9322 - val_loss: 0.3732 - val_accuracy: 0.8673\n",
            "Epoch 23/60\n",
            "71/71 [==============================] - 15s 207ms/step - loss: 0.1563 - accuracy: 0.9543 - val_loss: 0.3829 - val_accuracy: 0.8850\n",
            "Epoch 24/60\n",
            "71/71 [==============================] - 15s 207ms/step - loss: 0.1463 - accuracy: 0.9521 - val_loss: 0.3089 - val_accuracy: 0.8973\n",
            "Epoch 25/60\n",
            "71/71 [==============================] - 15s 210ms/step - loss: 0.1094 - accuracy: 0.9676 - val_loss: 0.4766 - val_accuracy: 0.8690\n",
            "Epoch 26/60\n",
            "71/71 [==============================] - 15s 209ms/step - loss: 0.0976 - accuracy: 0.9721 - val_loss: 0.3199 - val_accuracy: 0.9115\n",
            "Epoch 27/60\n",
            "71/71 [==============================] - 15s 209ms/step - loss: 0.0803 - accuracy: 0.9814 - val_loss: 0.3023 - val_accuracy: 0.9204\n",
            "Epoch 28/60\n",
            "71/71 [==============================] - 15s 207ms/step - loss: 0.0739 - accuracy: 0.9818 - val_loss: 0.3258 - val_accuracy: 0.9221\n",
            "Epoch 29/60\n",
            "71/71 [==============================] - 15s 209ms/step - loss: 0.0652 - accuracy: 0.9849 - val_loss: 0.3753 - val_accuracy: 0.9080\n",
            "Epoch 30/60\n",
            "71/71 [==============================] - 15s 209ms/step - loss: 0.0555 - accuracy: 0.9858 - val_loss: 0.3368 - val_accuracy: 0.9257\n",
            "Epoch 31/60\n",
            "71/71 [==============================] - 15s 208ms/step - loss: 0.0508 - accuracy: 0.9876 - val_loss: 0.3450 - val_accuracy: 0.9150\n",
            "Epoch 32/60\n",
            "71/71 [==============================] - 15s 211ms/step - loss: 0.0551 - accuracy: 0.9863 - val_loss: 0.3269 - val_accuracy: 0.9257\n",
            "Epoch 33/60\n",
            "71/71 [==============================] - 15s 210ms/step - loss: 0.0442 - accuracy: 0.9894 - val_loss: 0.3960 - val_accuracy: 0.9133\n",
            "Epoch 34/60\n",
            "71/71 [==============================] - 15s 211ms/step - loss: 0.0537 - accuracy: 0.9876 - val_loss: 0.5028 - val_accuracy: 0.8761\n",
            "Epoch 35/60\n",
            "71/71 [==============================] - 15s 213ms/step - loss: 0.0666 - accuracy: 0.9818 - val_loss: 0.3660 - val_accuracy: 0.8920\n",
            "Epoch 36/60\n",
            "71/71 [==============================] - 15s 210ms/step - loss: 0.0621 - accuracy: 0.9796 - val_loss: 0.3363 - val_accuracy: 0.9062\n",
            "Epoch 37/60\n",
            "71/71 [==============================] - 15s 210ms/step - loss: 0.0394 - accuracy: 0.9907 - val_loss: 0.3040 - val_accuracy: 0.9345\n",
            "Epoch 38/60\n",
            "71/71 [==============================] - 15s 210ms/step - loss: 0.0471 - accuracy: 0.9871 - val_loss: 0.3940 - val_accuracy: 0.9150\n",
            "Epoch 39/60\n",
            "71/71 [==============================] - 15s 209ms/step - loss: 0.0379 - accuracy: 0.9911 - val_loss: 0.3493 - val_accuracy: 0.9274\n",
            "Epoch 40/60\n",
            "71/71 [==============================] - 15s 209ms/step - loss: 0.0304 - accuracy: 0.9929 - val_loss: 0.3216 - val_accuracy: 0.9310\n",
            "Epoch 41/60\n",
            "71/71 [==============================] - 15s 209ms/step - loss: 0.0300 - accuracy: 0.9911 - val_loss: 0.6203 - val_accuracy: 0.8743\n",
            "Epoch 42/60\n",
            "71/71 [==============================] - 15s 210ms/step - loss: 0.0282 - accuracy: 0.9925 - val_loss: 0.3500 - val_accuracy: 0.9186\n",
            "Epoch 43/60\n",
            "71/71 [==============================] - 15s 210ms/step - loss: 0.0215 - accuracy: 0.9938 - val_loss: 0.4021 - val_accuracy: 0.9257\n",
            "Epoch 44/60\n",
            "71/71 [==============================] - 15s 209ms/step - loss: 0.0214 - accuracy: 0.9938 - val_loss: 0.4854 - val_accuracy: 0.9027\n",
            "Epoch 45/60\n",
            "71/71 [==============================] - 15s 211ms/step - loss: 0.0185 - accuracy: 0.9942 - val_loss: 0.5680 - val_accuracy: 0.8938\n",
            "Epoch 46/60\n",
            "71/71 [==============================] - 15s 211ms/step - loss: 0.0241 - accuracy: 0.9951 - val_loss: 0.4913 - val_accuracy: 0.9133\n",
            "Epoch 47/60\n",
            "71/71 [==============================] - 15s 209ms/step - loss: 0.0176 - accuracy: 0.9942 - val_loss: 0.6165 - val_accuracy: 0.8832\n",
            "Epoch 48/60\n",
            "71/71 [==============================] - 15s 208ms/step - loss: 0.0180 - accuracy: 0.9938 - val_loss: 0.4277 - val_accuracy: 0.9221\n",
            "Epoch 49/60\n",
            "71/71 [==============================] - 15s 208ms/step - loss: 0.0225 - accuracy: 0.9929 - val_loss: 0.6598 - val_accuracy: 0.8708\n",
            "Epoch 50/60\n",
            "71/71 [==============================] - 15s 210ms/step - loss: 0.0185 - accuracy: 0.9947 - val_loss: 0.4679 - val_accuracy: 0.9239\n",
            "Epoch 51/60\n",
            "71/71 [==============================] - 15s 206ms/step - loss: 0.0152 - accuracy: 0.9965 - val_loss: 0.4053 - val_accuracy: 0.9257\n",
            "Epoch 52/60\n",
            "71/71 [==============================] - 15s 208ms/step - loss: 0.0137 - accuracy: 0.9965 - val_loss: 0.4159 - val_accuracy: 0.9239\n",
            "Epoch 53/60\n",
            "71/71 [==============================] - 15s 209ms/step - loss: 0.0085 - accuracy: 0.9987 - val_loss: 0.4650 - val_accuracy: 0.9221\n",
            "Epoch 54/60\n",
            "71/71 [==============================] - 15s 211ms/step - loss: 0.0140 - accuracy: 0.9947 - val_loss: 0.4267 - val_accuracy: 0.9239\n",
            "Epoch 55/60\n",
            "71/71 [==============================] - 15s 211ms/step - loss: 0.0149 - accuracy: 0.9947 - val_loss: 0.6445 - val_accuracy: 0.8973\n",
            "Epoch 56/60\n",
            "71/71 [==============================] - 15s 215ms/step - loss: 0.0240 - accuracy: 0.9911 - val_loss: 0.3958 - val_accuracy: 0.9097\n",
            "Epoch 57/60\n",
            "71/71 [==============================] - 15s 209ms/step - loss: 0.0117 - accuracy: 0.9973 - val_loss: 0.5024 - val_accuracy: 0.9080\n",
            "Epoch 58/60\n",
            "71/71 [==============================] - 15s 213ms/step - loss: 0.0084 - accuracy: 0.9978 - val_loss: 0.6290 - val_accuracy: 0.8973\n",
            "Epoch 59/60\n",
            "71/71 [==============================] - 15s 209ms/step - loss: 0.0100 - accuracy: 0.9973 - val_loss: 0.3989 - val_accuracy: 0.9239\n",
            "Epoch 60/60\n",
            "71/71 [==============================] - 15s 209ms/step - loss: 0.0098 - accuracy: 0.9978 - val_loss: 0.5543 - val_accuracy: 0.9133\n"
          ],
          "name": "stdout"
        }
      ]
    },
    {
      "cell_type": "code",
      "metadata": {
        "id": "gNcQlYGTFkeQ",
        "colab_type": "code",
        "colab": {
          "base_uri": "https://localhost:8080/",
          "height": 337
        },
        "outputId": "eaa3926a-ab4e-4bb9-d5c9-9c25ed77fe9d"
      },
      "source": [
        "import matplotlib.pyplot as plt\n",
        "plt.style.use('ggplot')\n",
        "\n",
        "def plot_history(history):\n",
        "    acc = history.history['accuracy']\n",
        "    val_acc = history.history['val_accuracy']\n",
        "    loss = history.history['loss']\n",
        "    val_loss = history.history['val_loss']\n",
        "    x = range(1, len(acc) + 1)\n",
        "\n",
        "    plt.figure(figsize=(12, 5))\n",
        "    plt.subplot(1, 2, 1)\n",
        "    plt.plot(x, acc, 'b', label='Training acc')\n",
        "    plt.plot(x, val_acc, 'r', label='Validation acc')\n",
        "    plt.title('Training and validation accuracy')\n",
        "    plt.legend()\n",
        "    plt.subplot(1, 2, 2)\n",
        "    plt.plot(x, loss, 'b', label='Training loss')\n",
        "    plt.plot(x, val_loss, 'r', label='Validation loss')\n",
        "    plt.title('Training and validation loss')\n",
        "    plt.legend()\n",
        "\n",
        "plot_history(history)"
      ],
      "execution_count": null,
      "outputs": [
        {
          "output_type": "display_data",
          "data": {
            "image/png": "[encoded data removed]",
            "text/plain": [
              "<Figure size 864x360 with 2 Axes>"
            ]
          },
          "metadata": {
            "tags": []
          }
        }
      ]
    },
    {
      "cell_type": "code",
      "metadata": {
        "id": "IjiEUDzLIs5o",
        "colab_type": "code",
        "colab": {
          "base_uri": "https://localhost:8080/",
          "height": 51
        },
        "outputId": "1fc73c82-14cf-4a96-878b-f90e4c282c58"
      },
      "source": [
        "model.evaluate(X_test, y_test)"
      ],
      "execution_count": null,
      "outputs": [
        {
          "output_type": "stream",
          "text": [
            "38/38 [==============================] - 1s 24ms/step - loss: 0.6598 - accuracy: 0.9065\n"
          ],
          "name": "stdout"
        },
        {
          "output_type": "execute_result",
          "data": {
            "text/plain": [
              "[0.6597868204116821, 0.9065343141555786]"
            ]
          },
          "metadata": {
            "tags": []
          },
          "execution_count": 65
        }
      ]
    },
    {
      "cell_type": "code",
      "metadata": {
        "id": "NSNbXKcQI7WC",
        "colab_type": "code",
        "colab": {
          "base_uri": "https://localhost:8080/",
          "height": 375
        },
        "outputId": "11427ad4-965f-4f04-9c5f-15ff919cf9af"
      },
      "source": [
        "from tensorflow.keras.models import Sequential\n",
        "from tensorflow.keras.layers import LSTM, Dense, Dropout\n",
        "from tensorflow.keras.layers import SpatialDropout1D\n",
        "from tensorflow.keras.layers import Embedding\n",
        "\n",
        "embedding_vector_length = 300\n",
        "\n",
        "model = Sequential()\n",
        "\n",
        "model.add(Embedding(vocab_size, embedding_vector_length, input_length=70,weights=[embedding_matrix],trainable=True))\n",
        "model.add(Embedding(vocab_size, 100, input_length=3000))\n",
        "# model.add(SpatialDropout1D(0.25))\n",
        "model.add(LSTM(50, dropout=0.5, recurrent_dropout=0.5))\n",
        "model.add(Dropout(0.2))\n",
        "model.add(Dense(1, activation='sigmoid'))\n",
        "model.compile(loss='binary_crossentropy',optimizer='adam', metrics=['accuracy'])\n",
        "print(model.summary())"
      ],
      "execution_count": null,
      "outputs": [
        {
          "output_type": "error",
          "ename": "ValueError",
          "evalue": "ignored",
          "traceback": [
            "\u001b[0;31m---------------------------------------------------------------------------\u001b[0m",
            "\u001b[0;31mValueError\u001b[0m                                Traceback (most recent call last)",
            "\u001b[0;32m<ipython-input-61-dcba954d429a>\u001b[0m in \u001b[0;36m<module>\u001b[0;34m()\u001b[0m\n\u001b[1;32m     11\u001b[0m \u001b[0mmodel\u001b[0m\u001b[0;34m.\u001b[0m\u001b[0madd\u001b[0m\u001b[0;34m(\u001b[0m\u001b[0mEmbedding\u001b[0m\u001b[0;34m(\u001b[0m\u001b[0mvocab_size\u001b[0m\u001b[0;34m,\u001b[0m \u001b[0;36m100\u001b[0m\u001b[0;34m,\u001b[0m \u001b[0minput_length\u001b[0m\u001b[0;34m=\u001b[0m\u001b[0;36m3000\u001b[0m\u001b[0;34m)\u001b[0m\u001b[0;34m)\u001b[0m\u001b[0;34m\u001b[0m\u001b[0;34m\u001b[0m\u001b[0m\n\u001b[1;32m     12\u001b[0m \u001b[0;31m# model.add(SpatialDropout1D(0.25))\u001b[0m\u001b[0;34m\u001b[0m\u001b[0;34m\u001b[0m\u001b[0;34m\u001b[0m\u001b[0m\n\u001b[0;32m---> 13\u001b[0;31m \u001b[0mmodel\u001b[0m\u001b[0;34m.\u001b[0m\u001b[0madd\u001b[0m\u001b[0;34m(\u001b[0m\u001b[0mLSTM\u001b[0m\u001b[0;34m(\u001b[0m\u001b[0;36m50\u001b[0m\u001b[0;34m,\u001b[0m \u001b[0mdropout\u001b[0m\u001b[0;34m=\u001b[0m\u001b[0;36m0.5\u001b[0m\u001b[0;34m,\u001b[0m \u001b[0mrecurrent_dropout\u001b[0m\u001b[0;34m=\u001b[0m\u001b[0;36m0.5\u001b[0m\u001b[0;34m)\u001b[0m\u001b[0;34m)\u001b[0m\u001b[0;34m\u001b[0m\u001b[0;34m\u001b[0m\u001b[0m\n\u001b[0m\u001b[1;32m     14\u001b[0m \u001b[0mmodel\u001b[0m\u001b[0;34m.\u001b[0m\u001b[0madd\u001b[0m\u001b[0;34m(\u001b[0m\u001b[0mDropout\u001b[0m\u001b[0;34m(\u001b[0m\u001b[0;36m0.2\u001b[0m\u001b[0;34m)\u001b[0m\u001b[0;34m)\u001b[0m\u001b[0;34m\u001b[0m\u001b[0;34m\u001b[0m\u001b[0m\n\u001b[1;32m     15\u001b[0m \u001b[0mmodel\u001b[0m\u001b[0;34m.\u001b[0m\u001b[0madd\u001b[0m\u001b[0;34m(\u001b[0m\u001b[0mDense\u001b[0m\u001b[0;34m(\u001b[0m\u001b[0;36m1\u001b[0m\u001b[0;34m,\u001b[0m \u001b[0mactivation\u001b[0m\u001b[0;34m=\u001b[0m\u001b[0;34m'sigmoid'\u001b[0m\u001b[0;34m)\u001b[0m\u001b[0;34m)\u001b[0m\u001b[0;34m\u001b[0m\u001b[0;34m\u001b[0m\u001b[0m\n",
            "\u001b[0;32m/usr/local/lib/python3.6/dist-packages/tensorflow/python/training/tracking/base.py\u001b[0m in \u001b[0;36m_method_wrapper\u001b[0;34m(self, *args, **kwargs)\u001b[0m\n\u001b[1;32m    455\u001b[0m     \u001b[0mself\u001b[0m\u001b[0;34m.\u001b[0m\u001b[0m_self_setattr_tracking\u001b[0m \u001b[0;34m=\u001b[0m \u001b[0;32mFalse\u001b[0m  \u001b[0;31m# pylint: disable=protected-access\u001b[0m\u001b[0;34m\u001b[0m\u001b[0;34m\u001b[0m\u001b[0m\n\u001b[1;32m    456\u001b[0m     \u001b[0;32mtry\u001b[0m\u001b[0;34m:\u001b[0m\u001b[0;34m\u001b[0m\u001b[0;34m\u001b[0m\u001b[0m\n\u001b[0;32m--> 457\u001b[0;31m       \u001b[0mresult\u001b[0m \u001b[0;34m=\u001b[0m \u001b[0mmethod\u001b[0m\u001b[0;34m(\u001b[0m\u001b[0mself\u001b[0m\u001b[0;34m,\u001b[0m \u001b[0;34m*\u001b[0m\u001b[0margs\u001b[0m\u001b[0;34m,\u001b[0m \u001b[0;34m**\u001b[0m\u001b[0mkwargs\u001b[0m\u001b[0;34m)\u001b[0m\u001b[0;34m\u001b[0m\u001b[0;34m\u001b[0m\u001b[0m\n\u001b[0m\u001b[1;32m    458\u001b[0m     \u001b[0;32mfinally\u001b[0m\u001b[0;34m:\u001b[0m\u001b[0;34m\u001b[0m\u001b[0;34m\u001b[0m\u001b[0m\n\u001b[1;32m    459\u001b[0m       \u001b[0mself\u001b[0m\u001b[0;34m.\u001b[0m\u001b[0m_self_setattr_tracking\u001b[0m \u001b[0;34m=\u001b[0m \u001b[0mprevious_value\u001b[0m  \u001b[0;31m# pylint: disable=protected-access\u001b[0m\u001b[0;34m\u001b[0m\u001b[0;34m\u001b[0m\u001b[0m\n",
            "\u001b[0;32m/usr/local/lib/python3.6/dist-packages/tensorflow/python/keras/engine/sequential.py\u001b[0m in \u001b[0;36madd\u001b[0;34m(self, layer)\u001b[0m\n\u001b[1;32m    219\u001b[0m       \u001b[0;31m# If the model is being built continuously on top of an input layer:\u001b[0m\u001b[0;34m\u001b[0m\u001b[0;34m\u001b[0m\u001b[0;34m\u001b[0m\u001b[0m\n\u001b[1;32m    220\u001b[0m       \u001b[0;31m# refresh its output.\u001b[0m\u001b[0;34m\u001b[0m\u001b[0;34m\u001b[0m\u001b[0;34m\u001b[0m\u001b[0m\n\u001b[0;32m--> 221\u001b[0;31m       \u001b[0moutput_tensor\u001b[0m \u001b[0;34m=\u001b[0m \u001b[0mlayer\u001b[0m\u001b[0;34m(\u001b[0m\u001b[0mself\u001b[0m\u001b[0;34m.\u001b[0m\u001b[0moutputs\u001b[0m\u001b[0;34m[\u001b[0m\u001b[0;36m0\u001b[0m\u001b[0;34m]\u001b[0m\u001b[0;34m)\u001b[0m\u001b[0;34m\u001b[0m\u001b[0;34m\u001b[0m\u001b[0m\n\u001b[0m\u001b[1;32m    222\u001b[0m       \u001b[0;32mif\u001b[0m \u001b[0mlen\u001b[0m\u001b[0;34m(\u001b[0m\u001b[0mnest\u001b[0m\u001b[0;34m.\u001b[0m\u001b[0mflatten\u001b[0m\u001b[0;34m(\u001b[0m\u001b[0moutput_tensor\u001b[0m\u001b[0;34m)\u001b[0m\u001b[0;34m)\u001b[0m \u001b[0;34m!=\u001b[0m \u001b[0;36m1\u001b[0m\u001b[0;34m:\u001b[0m\u001b[0;34m\u001b[0m\u001b[0;34m\u001b[0m\u001b[0m\n\u001b[1;32m    223\u001b[0m         \u001b[0;32mraise\u001b[0m \u001b[0mValueError\u001b[0m\u001b[0;34m(\u001b[0m\u001b[0mSINGLE_LAYER_OUTPUT_ERROR_MSG\u001b[0m\u001b[0;34m)\u001b[0m\u001b[0;34m\u001b[0m\u001b[0;34m\u001b[0m\u001b[0m\n",
            "\u001b[0;32m/usr/local/lib/python3.6/dist-packages/tensorflow/python/keras/layers/recurrent.py\u001b[0m in \u001b[0;36m__call__\u001b[0;34m(self, inputs, initial_state, constants, **kwargs)\u001b[0m\n\u001b[1;32m    661\u001b[0m \u001b[0;34m\u001b[0m\u001b[0m\n\u001b[1;32m    662\u001b[0m     \u001b[0;32mif\u001b[0m \u001b[0minitial_state\u001b[0m \u001b[0;32mis\u001b[0m \u001b[0;32mNone\u001b[0m \u001b[0;32mand\u001b[0m \u001b[0mconstants\u001b[0m \u001b[0;32mis\u001b[0m \u001b[0;32mNone\u001b[0m\u001b[0;34m:\u001b[0m\u001b[0;34m\u001b[0m\u001b[0;34m\u001b[0m\u001b[0m\n\u001b[0;32m--> 663\u001b[0;31m       \u001b[0;32mreturn\u001b[0m \u001b[0msuper\u001b[0m\u001b[0;34m(\u001b[0m\u001b[0mRNN\u001b[0m\u001b[0;34m,\u001b[0m \u001b[0mself\u001b[0m\u001b[0;34m)\u001b[0m\u001b[0;34m.\u001b[0m\u001b[0m__call__\u001b[0m\u001b[0;34m(\u001b[0m\u001b[0minputs\u001b[0m\u001b[0;34m,\u001b[0m \u001b[0;34m**\u001b[0m\u001b[0mkwargs\u001b[0m\u001b[0;34m)\u001b[0m\u001b[0;34m\u001b[0m\u001b[0;34m\u001b[0m\u001b[0m\n\u001b[0m\u001b[1;32m    664\u001b[0m \u001b[0;34m\u001b[0m\u001b[0m\n\u001b[1;32m    665\u001b[0m     \u001b[0;31m# If any of `initial_state` or `constants` are specified and are Keras\u001b[0m\u001b[0;34m\u001b[0m\u001b[0;34m\u001b[0m\u001b[0;34m\u001b[0m\u001b[0m\n",
            "\u001b[0;32m/usr/local/lib/python3.6/dist-packages/tensorflow/python/keras/engine/base_layer.py\u001b[0m in \u001b[0;36m__call__\u001b[0;34m(self, *args, **kwargs)\u001b[0m\n\u001b[1;32m    924\u001b[0m     \u001b[0;32mif\u001b[0m \u001b[0m_in_functional_construction_mode\u001b[0m\u001b[0;34m(\u001b[0m\u001b[0mself\u001b[0m\u001b[0;34m,\u001b[0m \u001b[0minputs\u001b[0m\u001b[0;34m,\u001b[0m \u001b[0margs\u001b[0m\u001b[0;34m,\u001b[0m \u001b[0mkwargs\u001b[0m\u001b[0;34m,\u001b[0m \u001b[0minput_list\u001b[0m\u001b[0;34m)\u001b[0m\u001b[0;34m:\u001b[0m\u001b[0;34m\u001b[0m\u001b[0;34m\u001b[0m\u001b[0m\n\u001b[1;32m    925\u001b[0m       return self._functional_construction_call(inputs, args, kwargs,\n\u001b[0;32m--> 926\u001b[0;31m                                                 input_list)\n\u001b[0m\u001b[1;32m    927\u001b[0m \u001b[0;34m\u001b[0m\u001b[0m\n\u001b[1;32m    928\u001b[0m     \u001b[0;31m# Maintains info about the `Layer.call` stack.\u001b[0m\u001b[0;34m\u001b[0m\u001b[0;34m\u001b[0m\u001b[0;34m\u001b[0m\u001b[0m\n",
            "\u001b[0;32m/usr/local/lib/python3.6/dist-packages/tensorflow/python/keras/engine/base_layer.py\u001b[0m in \u001b[0;36m_functional_construction_call\u001b[0;34m(self, inputs, args, kwargs, input_list)\u001b[0m\n\u001b[1;32m   1090\u001b[0m       \u001b[0;31m# TODO(reedwm): We should assert input compatibility after the inputs\u001b[0m\u001b[0;34m\u001b[0m\u001b[0;34m\u001b[0m\u001b[0;34m\u001b[0m\u001b[0m\n\u001b[1;32m   1091\u001b[0m       \u001b[0;31m# are casted, not before.\u001b[0m\u001b[0;34m\u001b[0m\u001b[0;34m\u001b[0m\u001b[0;34m\u001b[0m\u001b[0m\n\u001b[0;32m-> 1092\u001b[0;31m       \u001b[0minput_spec\u001b[0m\u001b[0;34m.\u001b[0m\u001b[0massert_input_compatibility\u001b[0m\u001b[0;34m(\u001b[0m\u001b[0mself\u001b[0m\u001b[0;34m.\u001b[0m\u001b[0minput_spec\u001b[0m\u001b[0;34m,\u001b[0m \u001b[0minputs\u001b[0m\u001b[0;34m,\u001b[0m \u001b[0mself\u001b[0m\u001b[0;34m.\u001b[0m\u001b[0mname\u001b[0m\u001b[0;34m)\u001b[0m\u001b[0;34m\u001b[0m\u001b[0;34m\u001b[0m\u001b[0m\n\u001b[0m\u001b[1;32m   1093\u001b[0m       \u001b[0mgraph\u001b[0m \u001b[0;34m=\u001b[0m \u001b[0mbackend\u001b[0m\u001b[0;34m.\u001b[0m\u001b[0mget_graph\u001b[0m\u001b[0;34m(\u001b[0m\u001b[0;34m)\u001b[0m\u001b[0;34m\u001b[0m\u001b[0;34m\u001b[0m\u001b[0m\n\u001b[1;32m   1094\u001b[0m       \u001b[0;31m# Use `self._name_scope()` to avoid auto-incrementing the name.\u001b[0m\u001b[0;34m\u001b[0m\u001b[0;34m\u001b[0m\u001b[0;34m\u001b[0m\u001b[0m\n",
            "\u001b[0;32m/usr/local/lib/python3.6/dist-packages/tensorflow/python/keras/engine/input_spec.py\u001b[0m in \u001b[0;36massert_input_compatibility\u001b[0;34m(input_spec, inputs, layer_name)\u001b[0m\n\u001b[1;32m    178\u001b[0m                          \u001b[0;34m'expected ndim='\u001b[0m \u001b[0;34m+\u001b[0m \u001b[0mstr\u001b[0m\u001b[0;34m(\u001b[0m\u001b[0mspec\u001b[0m\u001b[0;34m.\u001b[0m\u001b[0mndim\u001b[0m\u001b[0;34m)\u001b[0m \u001b[0;34m+\u001b[0m \u001b[0;34m', found ndim='\u001b[0m \u001b[0;34m+\u001b[0m\u001b[0;34m\u001b[0m\u001b[0;34m\u001b[0m\u001b[0m\n\u001b[1;32m    179\u001b[0m                          \u001b[0mstr\u001b[0m\u001b[0;34m(\u001b[0m\u001b[0mndim\u001b[0m\u001b[0;34m)\u001b[0m \u001b[0;34m+\u001b[0m \u001b[0;34m'. Full shape received: '\u001b[0m \u001b[0;34m+\u001b[0m\u001b[0;34m\u001b[0m\u001b[0;34m\u001b[0m\u001b[0m\n\u001b[0;32m--> 180\u001b[0;31m                          str(x.shape.as_list()))\n\u001b[0m\u001b[1;32m    181\u001b[0m     \u001b[0;32mif\u001b[0m \u001b[0mspec\u001b[0m\u001b[0;34m.\u001b[0m\u001b[0mmax_ndim\u001b[0m \u001b[0;32mis\u001b[0m \u001b[0;32mnot\u001b[0m \u001b[0;32mNone\u001b[0m\u001b[0;34m:\u001b[0m\u001b[0;34m\u001b[0m\u001b[0;34m\u001b[0m\u001b[0m\n\u001b[1;32m    182\u001b[0m       \u001b[0mndim\u001b[0m \u001b[0;34m=\u001b[0m \u001b[0mx\u001b[0m\u001b[0;34m.\u001b[0m\u001b[0mshape\u001b[0m\u001b[0;34m.\u001b[0m\u001b[0mndims\u001b[0m\u001b[0;34m\u001b[0m\u001b[0;34m\u001b[0m\u001b[0m\n",
            "\u001b[0;31mValueError\u001b[0m: Input 0 of layer lstm_3 is incompatible with the layer: expected ndim=3, found ndim=4. Full shape received: [None, 70, 300, 100]"
          ]
        }
      ]
    },
    {
      "cell_type": "code",
      "metadata": {
        "id": "ubI0d0WFJYZG",
        "colab_type": "code",
        "colab": {
          "base_uri": "https://localhost:8080/",
          "height": 51
        },
        "outputId": "cd52aa55-5ef0-4565-ea7f-bf9bd18999a5"
      },
      "source": [
        "import tensorflow as tf\n",
        "\n",
        "model = tf.keras.Sequential()\n",
        "model.add(tf.keras.layers.Embedding(1000, 64, input_length=10))\n",
        "# The model will take as input an integer matrix of size (batch,\n",
        "# input_length), and the largest integer (i.e. word index) in the input\n",
        "# should be no larger than 999 (vocabulary size).\n",
        "# Now model.output_shape is (None, 10, 64), where `None` is the batch\n",
        "# dimension.\n",
        "input_array = np.random.randint(1000, size=(32, 10))\n",
        "print(input_array.shape)\n",
        "model.compile('rmsprop', 'mse')\n",
        "output_array = model.predict(input_array)\n",
        "print(output_array.shape)\n"
      ],
      "execution_count": null,
      "outputs": [
        {
          "output_type": "stream",
          "text": [
            "(32, 10)\n",
            "(32, 10, 64)\n"
          ],
          "name": "stdout"
        }
      ]
    },
    {
      "cell_type": "code",
      "metadata": {
        "id": "wFKma6v8OYR3",
        "colab_type": "code",
        "colab": {}
      },
      "source": [
        ""
      ],
      "execution_count": null,
      "outputs": []
    }
  ]
}